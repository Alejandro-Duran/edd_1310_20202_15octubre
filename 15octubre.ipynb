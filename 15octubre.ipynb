{
  "nbformat": 4,
  "nbformat_minor": 0,
  "metadata": {
    "colab": {
      "name": "15octubre.ipynb",
      "provenance": [],
      "authorship_tag": "ABX9TyOuE/rlyRQHe2YoV768f8rx",
      "include_colab_link": true
    },
    "kernelspec": {
      "name": "python3",
      "display_name": "Python 3"
    }
  },
  "cells": [
    {
      "cell_type": "markdown",
      "metadata": {
        "id": "view-in-github",
        "colab_type": "text"
      },
      "source": [
        "<a href=\"https://colab.research.google.com/github/Alejandro-Duran/edd_1310_20202_15octubre/blob/main/15octubre.ipynb\" target=\"_parent\"><img src=\"https://colab.research.google.com/assets/colab-badge.svg\" alt=\"Open In Colab\"/></a>"
      ]
    },
    {
      "cell_type": "markdown",
      "metadata": {
        "id": "41Ivn8RuBwRd"
      },
      "source": [
        "#Modulos\n",
        "Son recursos reutilizables que contienen varias funciones que pueden ser importadas a tu código."
      ]
    },
    {
      "cell_type": "code",
      "metadata": {
        "id": "bTQTasLyCDKK"
      },
      "source": [
        "\"\"\"\n",
        "import mi_modulo\n",
        "\n",
        "x = mi_modulo.sumar( 4 , 7 )\n",
        "\n",
        "print( x )\n",
        "\n",
        "print( mi_modulo.multiplicar(3,5) )\n",
        "\"\"\""
      ],
      "execution_count": null,
      "outputs": []
    },
    {
      "cell_type": "code",
      "metadata": {
        "id": "Le23-K4NKRhw"
      },
      "source": [
        "from mi_modulo import sumar, dividir\n",
        "\n",
        "print (sumar(3,6))\n",
        "print (dividir(49,7))"
      ],
      "execution_count": null,
      "outputs": []
    },
    {
      "cell_type": "code",
      "metadata": {
        "id": "YJEIfWzULPhP"
      },
      "source": [
        "import mi_modulo as patito#importar modulo que creamos dentro de la misma carpeta\n",
        "\n",
        "print(patito.sumar(4,6))"
      ],
      "execution_count": null,
      "outputs": []
    },
    {
      "cell_type": "code",
      "metadata": {
        "id": "nFdTg-tROAkG"
      },
      "source": [
        "pip install joke-generator #instalar un modulo"
      ],
      "execution_count": null,
      "outputs": []
    },
    {
      "cell_type": "code",
      "metadata": {
        "id": "zxrg9OA6Pvoo"
      },
      "source": [
        "from joke_generator import generate#usar modulo instalado\n",
        "generate()"
      ],
      "execution_count": null,
      "outputs": []
    },
    {
      "cell_type": "markdown",
      "metadata": {
        "id": "p9ZuctdVSQKG"
      },
      "source": [
        "#Archivos\n",
        "\n",
        "-open (str, str)\n",
        "  1. Nombre o ruta del archivo\n",
        "  1. Dos caracteres\n",
        "    - modo de apertura del archivo (r,w,a appen si y solo si el archivo existe, x si y solo si el archivo no existe)\n",
        "    - Formato del archivo (t o b)"
      ]
    },
    {
      "cell_type": "code",
      "metadata": {
        "id": "VphaGHxbS5CI"
      },
      "source": [
        "archivo = open(\"saludo.txt\", \"wt\")\n",
        "archivo.write(\"Hola a todos\\n Que hacen?\")\n",
        "archivo.close()"
      ],
      "execution_count": 14,
      "outputs": []
    },
    {
      "cell_type": "code",
      "metadata": {
        "id": "fTtRFVuyUXKR"
      },
      "source": [
        "otro = open(\"./sample_data/anscombe.json\",\"rt\")\n",
        "datos = otro.read()\n",
        "#print(datos)\n",
        "otro.close\n",
        "\n",
        "arch = open (\"frutas.txt\",\"rt\")\n",
        "#print(arch.readline())\n",
        "data = \"ppp\"\n",
        "while(data != \"\"):\n",
        "  data=arch.readline()\n",
        "  print(data)\n",
        "arch.close()\n",
        "\n",
        "arch = open (\"frutas.txt\",\"rt\")\n",
        "list_frutas=arch.readlines()\n",
        "print(list_frutas)\n",
        "arch.close()"
      ],
      "execution_count": null,
      "outputs": []
    }
  ]
}